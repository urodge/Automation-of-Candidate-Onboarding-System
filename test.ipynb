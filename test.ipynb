{
 "cells": [
  {
   "cell_type": "code",
   "execution_count": 1,
   "metadata": {},
   "outputs": [
    {
     "ename": "ModuleNotFoundError",
     "evalue": "No module named 'autotime'",
     "output_type": "error",
     "traceback": [
      "\u001b[1;31m---------------------------------------------------------------------------\u001b[0m",
      "\u001b[1;31mModuleNotFoundError\u001b[0m                       Traceback (most recent call last)",
      "Cell \u001b[1;32mIn[1], line 1\u001b[0m\n\u001b[1;32m----> 1\u001b[0m \u001b[43mget_ipython\u001b[49m\u001b[43m(\u001b[49m\u001b[43m)\u001b[49m\u001b[38;5;241;43m.\u001b[39;49m\u001b[43mrun_line_magic\u001b[49m\u001b[43m(\u001b[49m\u001b[38;5;124;43m'\u001b[39;49m\u001b[38;5;124;43mload_ext\u001b[39;49m\u001b[38;5;124;43m'\u001b[39;49m\u001b[43m,\u001b[49m\u001b[43m \u001b[49m\u001b[38;5;124;43m'\u001b[39;49m\u001b[38;5;124;43mautotime\u001b[39;49m\u001b[38;5;124;43m'\u001b[39;49m\u001b[43m)\u001b[49m\n\u001b[0;32m      3\u001b[0m \u001b[38;5;28;01mfrom\u001b[39;00m \u001b[38;5;21;01mIPython\u001b[39;00m\u001b[38;5;21;01m.\u001b[39;00m\u001b[38;5;21;01mdisplay\u001b[39;00m \u001b[38;5;28;01mimport\u001b[39;00m display_html\n\u001b[0;32m      4\u001b[0m \u001b[38;5;28;01mfrom\u001b[39;00m \u001b[38;5;21;01mPIL\u001b[39;00m \u001b[38;5;28;01mimport\u001b[39;00m Image \u001b[38;5;28;01mas\u001b[39;00m PILImage\n",
      "File \u001b[1;32mc:\\Users\\prani\\Desktop\\uddhav_project_ocr\\.venv\\Lib\\site-packages\\IPython\\core\\interactiveshell.py:2480\u001b[0m, in \u001b[0;36mInteractiveShell.run_line_magic\u001b[1;34m(self, magic_name, line, _stack_depth)\u001b[0m\n\u001b[0;32m   2478\u001b[0m     kwargs[\u001b[38;5;124m'\u001b[39m\u001b[38;5;124mlocal_ns\u001b[39m\u001b[38;5;124m'\u001b[39m] \u001b[38;5;241m=\u001b[39m \u001b[38;5;28mself\u001b[39m\u001b[38;5;241m.\u001b[39mget_local_scope(stack_depth)\n\u001b[0;32m   2479\u001b[0m \u001b[38;5;28;01mwith\u001b[39;00m \u001b[38;5;28mself\u001b[39m\u001b[38;5;241m.\u001b[39mbuiltin_trap:\n\u001b[1;32m-> 2480\u001b[0m     result \u001b[38;5;241m=\u001b[39m \u001b[43mfn\u001b[49m\u001b[43m(\u001b[49m\u001b[38;5;241;43m*\u001b[39;49m\u001b[43margs\u001b[49m\u001b[43m,\u001b[49m\u001b[43m \u001b[49m\u001b[38;5;241;43m*\u001b[39;49m\u001b[38;5;241;43m*\u001b[39;49m\u001b[43mkwargs\u001b[49m\u001b[43m)\u001b[49m\n\u001b[0;32m   2482\u001b[0m \u001b[38;5;66;03m# The code below prevents the output from being displayed\u001b[39;00m\n\u001b[0;32m   2483\u001b[0m \u001b[38;5;66;03m# when using magics with decorator @output_can_be_silenced\u001b[39;00m\n\u001b[0;32m   2484\u001b[0m \u001b[38;5;66;03m# when the last Python token in the expression is a ';'.\u001b[39;00m\n\u001b[0;32m   2485\u001b[0m \u001b[38;5;28;01mif\u001b[39;00m \u001b[38;5;28mgetattr\u001b[39m(fn, magic\u001b[38;5;241m.\u001b[39mMAGIC_OUTPUT_CAN_BE_SILENCED, \u001b[38;5;28;01mFalse\u001b[39;00m):\n",
      "File \u001b[1;32mc:\\Users\\prani\\Desktop\\uddhav_project_ocr\\.venv\\Lib\\site-packages\\IPython\\core\\magics\\extension.py:33\u001b[0m, in \u001b[0;36mExtensionMagics.load_ext\u001b[1;34m(self, module_str)\u001b[0m\n\u001b[0;32m     31\u001b[0m \u001b[38;5;28;01mif\u001b[39;00m \u001b[38;5;129;01mnot\u001b[39;00m module_str:\n\u001b[0;32m     32\u001b[0m     \u001b[38;5;28;01mraise\u001b[39;00m UsageError(\u001b[38;5;124m'\u001b[39m\u001b[38;5;124mMissing module name.\u001b[39m\u001b[38;5;124m'\u001b[39m)\n\u001b[1;32m---> 33\u001b[0m res \u001b[38;5;241m=\u001b[39m \u001b[38;5;28;43mself\u001b[39;49m\u001b[38;5;241;43m.\u001b[39;49m\u001b[43mshell\u001b[49m\u001b[38;5;241;43m.\u001b[39;49m\u001b[43mextension_manager\u001b[49m\u001b[38;5;241;43m.\u001b[39;49m\u001b[43mload_extension\u001b[49m\u001b[43m(\u001b[49m\u001b[43mmodule_str\u001b[49m\u001b[43m)\u001b[49m\n\u001b[0;32m     35\u001b[0m \u001b[38;5;28;01mif\u001b[39;00m res \u001b[38;5;241m==\u001b[39m \u001b[38;5;124m'\u001b[39m\u001b[38;5;124malready loaded\u001b[39m\u001b[38;5;124m'\u001b[39m:\n\u001b[0;32m     36\u001b[0m     \u001b[38;5;28mprint\u001b[39m(\u001b[38;5;124m\"\u001b[39m\u001b[38;5;124mThe \u001b[39m\u001b[38;5;132;01m%s\u001b[39;00m\u001b[38;5;124m extension is already loaded. To reload it, use:\u001b[39m\u001b[38;5;124m\"\u001b[39m \u001b[38;5;241m%\u001b[39m module_str)\n",
      "File \u001b[1;32mc:\\Users\\prani\\Desktop\\uddhav_project_ocr\\.venv\\Lib\\site-packages\\IPython\\core\\extensions.py:62\u001b[0m, in \u001b[0;36mExtensionManager.load_extension\u001b[1;34m(self, module_str)\u001b[0m\n\u001b[0;32m     55\u001b[0m \u001b[38;5;250m\u001b[39m\u001b[38;5;124;03m\"\"\"Load an IPython extension by its module name.\u001b[39;00m\n\u001b[0;32m     56\u001b[0m \n\u001b[0;32m     57\u001b[0m \u001b[38;5;124;03mReturns the string \"already loaded\" if the extension is already loaded,\u001b[39;00m\n\u001b[0;32m     58\u001b[0m \u001b[38;5;124;03m\"no load function\" if the module doesn't have a load_ipython_extension\u001b[39;00m\n\u001b[0;32m     59\u001b[0m \u001b[38;5;124;03mfunction, or None if it succeeded.\u001b[39;00m\n\u001b[0;32m     60\u001b[0m \u001b[38;5;124;03m\"\"\"\u001b[39;00m\n\u001b[0;32m     61\u001b[0m \u001b[38;5;28;01mtry\u001b[39;00m:\n\u001b[1;32m---> 62\u001b[0m     \u001b[38;5;28;01mreturn\u001b[39;00m \u001b[38;5;28;43mself\u001b[39;49m\u001b[38;5;241;43m.\u001b[39;49m\u001b[43m_load_extension\u001b[49m\u001b[43m(\u001b[49m\u001b[43mmodule_str\u001b[49m\u001b[43m)\u001b[49m\n\u001b[0;32m     63\u001b[0m \u001b[38;5;28;01mexcept\u001b[39;00m \u001b[38;5;167;01mModuleNotFoundError\u001b[39;00m:\n\u001b[0;32m     64\u001b[0m     \u001b[38;5;28;01mif\u001b[39;00m module_str \u001b[38;5;129;01min\u001b[39;00m BUILTINS_EXTS:\n",
      "File \u001b[1;32mc:\\Users\\prani\\Desktop\\uddhav_project_ocr\\.venv\\Lib\\site-packages\\IPython\\core\\extensions.py:77\u001b[0m, in \u001b[0;36mExtensionManager._load_extension\u001b[1;34m(self, module_str)\u001b[0m\n\u001b[0;32m     75\u001b[0m \u001b[38;5;28;01mwith\u001b[39;00m \u001b[38;5;28mself\u001b[39m\u001b[38;5;241m.\u001b[39mshell\u001b[38;5;241m.\u001b[39mbuiltin_trap:\n\u001b[0;32m     76\u001b[0m     \u001b[38;5;28;01mif\u001b[39;00m module_str \u001b[38;5;129;01mnot\u001b[39;00m \u001b[38;5;129;01min\u001b[39;00m sys\u001b[38;5;241m.\u001b[39mmodules:\n\u001b[1;32m---> 77\u001b[0m         mod \u001b[38;5;241m=\u001b[39m \u001b[43mimport_module\u001b[49m\u001b[43m(\u001b[49m\u001b[43mmodule_str\u001b[49m\u001b[43m)\u001b[49m\n\u001b[0;32m     78\u001b[0m     mod \u001b[38;5;241m=\u001b[39m sys\u001b[38;5;241m.\u001b[39mmodules[module_str]\n\u001b[0;32m     79\u001b[0m     \u001b[38;5;28;01mif\u001b[39;00m \u001b[38;5;28mself\u001b[39m\u001b[38;5;241m.\u001b[39m_call_load_ipython_extension(mod):\n",
      "File \u001b[1;32mC:\\Program Files\\WindowsApps\\PythonSoftwareFoundation.Python.3.12_3.12.2288.0_x64__qbz5n2kfra8p0\\Lib\\importlib\\__init__.py:90\u001b[0m, in \u001b[0;36mimport_module\u001b[1;34m(name, package)\u001b[0m\n\u001b[0;32m     88\u001b[0m             \u001b[38;5;28;01mbreak\u001b[39;00m\n\u001b[0;32m     89\u001b[0m         level \u001b[38;5;241m+\u001b[39m\u001b[38;5;241m=\u001b[39m \u001b[38;5;241m1\u001b[39m\n\u001b[1;32m---> 90\u001b[0m \u001b[38;5;28;01mreturn\u001b[39;00m \u001b[43m_bootstrap\u001b[49m\u001b[38;5;241;43m.\u001b[39;49m\u001b[43m_gcd_import\u001b[49m\u001b[43m(\u001b[49m\u001b[43mname\u001b[49m\u001b[43m[\u001b[49m\u001b[43mlevel\u001b[49m\u001b[43m:\u001b[49m\u001b[43m]\u001b[49m\u001b[43m,\u001b[49m\u001b[43m \u001b[49m\u001b[43mpackage\u001b[49m\u001b[43m,\u001b[49m\u001b[43m \u001b[49m\u001b[43mlevel\u001b[49m\u001b[43m)\u001b[49m\n",
      "File \u001b[1;32m<frozen importlib._bootstrap>:1387\u001b[0m, in \u001b[0;36m_gcd_import\u001b[1;34m(name, package, level)\u001b[0m\n",
      "File \u001b[1;32m<frozen importlib._bootstrap>:1360\u001b[0m, in \u001b[0;36m_find_and_load\u001b[1;34m(name, import_)\u001b[0m\n",
      "File \u001b[1;32m<frozen importlib._bootstrap>:1324\u001b[0m, in \u001b[0;36m_find_and_load_unlocked\u001b[1;34m(name, import_)\u001b[0m\n",
      "\u001b[1;31mModuleNotFoundError\u001b[0m: No module named 'autotime'"
     ]
    }
   ],
   "source": [
    "%load_ext autotime\n",
    "\n",
    "from IPython.display import display_html\n",
    "from PIL import Image as PILImage\n",
    "from openpyxl import load_workbook\n",
    "from io import BytesIO\n",
    "import cv2"
   ]
  },
  {
   "cell_type": "code",
   "execution_count": 27,
   "metadata": {},
   "outputs": [
    {
     "name": "stdout",
     "output_type": "stream",
     "text": [
      "[ExtractedTable(title=None, bbox=(118, 114, 712, 206),shape=(3, 5))]\n",
      "Table data saved to output.csv\n"
     ]
    }
   ],
   "source": [
    "\n",
    "\n",
    "# Path to the image containing the table\n",
    "image_path = \"test_data.png\"\n",
    "\n",
    "# Load the image using img2table\n",
    "img = Image(src=image_path)\n",
    "\n",
    "# Process the image to extract table content\n",
    "# Enable `explicit_tables=True` for better table-specific results\n",
    "tables = img.extract_tables()\n",
    "print(tables)\n",
    "\n",
    "# Assuming there's at least one table in the image\n",
    "if tables:\n",
    "    # Extract the first table\n",
    "    table_data = tables[0].df  # Extract the table as a pandas DataFrame\n",
    "\n",
    "    # Save the DataFrame to a CSV file\n",
    "    csv_path = \"output.csv\"\n",
    "    table_data.to_csv(csv_path, index=False)\n",
    "    print(f\"Table data saved to {csv_path}\")\n",
    "else:\n",
    "    print(\"No tables were detected in the image.\")\n"
   ]
  },
  {
   "cell_type": "code",
   "execution_count": 1,
   "metadata": {},
   "outputs": [],
   "source": [
    "from img2table.document import Image\n",
    "\n",
    "from img2table.document import Image\n",
    "import pandas as pd\n",
    "from img2table.document import PDF\n",
    "# PaddleOCR\n",
    "from img2table.ocr import PaddleOCR\n",
    "\n",
    "paddle_ocr = PaddleOCR(lang=\"en\", kw={\"use_dilation\": True})"
   ]
  },
  {
   "cell_type": "code",
   "execution_count": 2,
   "metadata": {},
   "outputs": [
    {
     "data": {
      "text/plain": [
       "{0: [ExtractedTable(title=15 . EDUCATIONAL QUALIFICATION : (Starting from recent ), bbox=(252, 1426, 1490, 1847),shape=(4, 5))],\n",
       " 1: [ExtractedTable(title=15 . Details of any important training undergone:, bbox=(237, 377, 1548, 531),shape=(2, 4)),\n",
       "  ExtractedTable(title=None, bbox=(233, 757, 1550, 1113),shape=(4, 3)),\n",
       "  ExtractedTable(title=None, bbox=(229, 1189, 1548, 1645),shape=(6, 3))],\n",
       " 2: []}"
      ]
     },
     "execution_count": 2,
     "metadata": {},
     "output_type": "execute_result"
    }
   ],
   "source": [
    "pdf = PDF(src=\"myform.pdf\")\n",
    "\n",
    "# Extract tables\n",
    "extracted_tables = pdf.extract_tables(ocr=paddle_ocr,\n",
    "                                      implicit_rows=False,\n",
    "                                      borderless_tables=False,\n",
    "                                      min_confidence=50)\n",
    "\n",
    "extracted_tables"
   ]
  },
  {
   "cell_type": "code",
   "execution_count": 33,
   "metadata": {},
   "outputs": [],
   "source": [
    "from img2table.ocr import TesseractOCR\n",
    "from img2table.document import Image\n",
    "\n",
    "# Instantiation of OCR\n",
    "# ocr = TesseractOCR(n_threads=1, lang=\"eng\")\n",
    "\n",
    "# Instantiation of document, either an image or a PDF\n",
    "doc = Image(\"test_data.png\")\n",
    "\n",
    "# Table extraction\n",
    "extracted_tables = doc.extract_tables(ocr=paddle_ocr,\n",
    "                                      implicit_rows=False,\n",
    "                                      implicit_columns=False,\n",
    "                                      borderless_tables=False,\n",
    "                                      min_confidence=50)"
   ]
  },
  {
   "cell_type": "code",
   "execution_count": 3,
   "metadata": {},
   "outputs": [
    {
     "ename": "AttributeError",
     "evalue": "'list' object has no attribute 'df'",
     "output_type": "error",
     "traceback": [
      "\u001b[1;31m---------------------------------------------------------------------------\u001b[0m",
      "\u001b[1;31mAttributeError\u001b[0m                            Traceback (most recent call last)",
      "Cell \u001b[1;32mIn[3], line 1\u001b[0m\n\u001b[1;32m----> 1\u001b[0m \u001b[38;5;28mprint\u001b[39m(\u001b[43mextracted_tables\u001b[49m\u001b[43m[\u001b[49m\u001b[38;5;241;43m0\u001b[39;49m\u001b[43m]\u001b[49m\u001b[38;5;241;43m.\u001b[39;49m\u001b[43mdf\u001b[49m)\n",
      "\u001b[1;31mAttributeError\u001b[0m: 'list' object has no attribute 'df'"
     ]
    }
   ],
   "source": [
    "print(extracted_tables[0].df)"
   ]
  },
  {
   "cell_type": "code",
   "execution_count": 4,
   "metadata": {},
   "outputs": [
    {
     "name": "stdout",
     "output_type": "stream",
     "text": [
      "{0: [ExtractedTable(title=15 . EDUCATIONAL QUALIFICATION : (Starting from recent ), bbox=(252, 1426, 1490, 1847),shape=(4, 5))], 1: [ExtractedTable(title=15 . Details of any important training undergone:, bbox=(237, 377, 1548, 531),shape=(2, 4)), ExtractedTable(title=None, bbox=(233, 757, 1550, 1113),shape=(4, 3)), ExtractedTable(title=None, bbox=(229, 1189, 1548, 1645),shape=(6, 3))], 2: []}\n"
     ]
    }
   ],
   "source": [
    "print(extracted_tables)"
   ]
  },
  {
   "cell_type": "code",
   "execution_count": 5,
   "metadata": {},
   "outputs": [
    {
     "name": "stdout",
     "output_type": "stream",
     "text": [
      "        0                                                  1              2  \\\n",
      "0  Sr No.                     Name of the School/ University  Qualification   \n",
      "1       1  Navsahyadri education society\\ngroup of instit...        BE-AIML   \n",
      "2       2      Indian Model School and\\nJunior College, Pune            HSC   \n",
      "3       3                       Jijamata Vidyalaya, Hiwra kh            SSC   \n",
      "\n",
      "           3               4  \n",
      "0  % or CGPA  Pass out\\nYear  \n",
      "1        9.7            2025  \n",
      "2        93%            2021  \n",
      "3        85%            2019  \n"
     ]
    }
   ],
   "source": [
    "print(extracted_tables[0][0].df)"
   ]
  },
  {
   "cell_type": "code",
   "execution_count": 6,
   "metadata": {},
   "outputs": [
    {
     "name": "stdout",
     "output_type": "stream",
     "text": [
      "              0                          1             2                  3\n",
      "0       Program                   Contents  Organized By           Duration\n",
      "1  Data Science  Python,SQL,Data\\nAnalysis     ITpreneur  June 24’ - Dec24’\n"
     ]
    }
   ],
   "source": [
    "print(extracted_tables[1][0].df)"
   ]
  },
  {
   "cell_type": "code",
   "execution_count": 7,
   "metadata": {},
   "outputs": [
    {
     "name": "stdout",
     "output_type": "stream",
     "text": [
      "        0                                                  1  \\\n",
      "0  Sr. NO                                      Certification   \n",
      "1       1                         Data Science For Engineers   \n",
      "2       2  Career Essential in Data Analysis by\\nMicrosof...   \n",
      "3       3                            Python For Data Science   \n",
      "\n",
      "                   2  \n",
      "0           Duration  \n",
      "1  Jan 23’ - Aug 23’  \n",
      "2             Jul24’  \n",
      "3             Feb22’  \n"
     ]
    }
   ],
   "source": [
    "print(extracted_tables[1][1].df)"
   ]
  },
  {
   "cell_type": "code",
   "execution_count": 8,
   "metadata": {},
   "outputs": [
    {
     "name": "stdout",
     "output_type": "stream",
     "text": [
      "                0                      1                  2\n",
      "0        Relation  Occupation/Profession  Resident Location\n",
      "1  Father/ Mother                 farmer            Hingoli\n",
      "2        Brothers                 Farmer            Hingoli\n",
      "3         Sisters                     NA                 NA\n",
      "4          Spouse                     NA                 NA\n",
      "5        Children                     NA                 NA\n"
     ]
    }
   ],
   "source": [
    "print(extracted_tables[1][2].df)"
   ]
  },
  {
   "cell_type": "code",
   "execution_count": 10,
   "metadata": {},
   "outputs": [
    {
     "ename": "IndexError",
     "evalue": "list index out of range",
     "output_type": "error",
     "traceback": [
      "\u001b[1;31m---------------------------------------------------------------------------\u001b[0m",
      "\u001b[1;31mIndexError\u001b[0m                                Traceback (most recent call last)",
      "Cell \u001b[1;32mIn[10], line 2\u001b[0m\n\u001b[0;32m      1\u001b[0m \u001b[38;5;66;03m# print(extracted_tables[1][3].df)\u001b[39;00m\n\u001b[1;32m----> 2\u001b[0m df \u001b[38;5;241m=\u001b[39m data\u001b[38;5;241m=\u001b[39m\u001b[43mextracted_tables\u001b[49m\u001b[43m[\u001b[49m\u001b[38;5;241;43m1\u001b[39;49m\u001b[43m]\u001b[49m\u001b[43m[\u001b[49m\u001b[38;5;241;43m3\u001b[39;49m\u001b[43m]\u001b[49m\u001b[38;5;241m.\u001b[39mdf\n",
      "\u001b[1;31mIndexError\u001b[0m: list index out of range"
     ]
    }
   ],
   "source": [
    "# print(extracted_tables[1][3].df)\n",
    "df = data=extracted_tables[1][3].df"
   ]
  },
  {
   "cell_type": "code",
   "execution_count": 31,
   "metadata": {},
   "outputs": [
    {
     "data": {
      "text/html": [
       "<div>\n",
       "<style scoped>\n",
       "    .dataframe tbody tr th:only-of-type {\n",
       "        vertical-align: middle;\n",
       "    }\n",
       "\n",
       "    .dataframe tbody tr th {\n",
       "        vertical-align: top;\n",
       "    }\n",
       "\n",
       "    .dataframe thead th {\n",
       "        text-align: right;\n",
       "    }\n",
       "</style>\n",
       "<table border=\"1\" class=\"dataframe\">\n",
       "  <thead>\n",
       "    <tr style=\"text-align: right;\">\n",
       "      <th></th>\n",
       "      <th>0</th>\n",
       "      <th>1</th>\n",
       "      <th>2</th>\n",
       "    </tr>\n",
       "  </thead>\n",
       "  <tbody>\n",
       "    <tr>\n",
       "      <th>0</th>\n",
       "      <td>Name</td>\n",
       "      <td>Designation</td>\n",
       "      <td>Contact No</td>\n",
       "    </tr>\n",
       "    <tr>\n",
       "      <th>1</th>\n",
       "      <td>adf</td>\n",
       "      <td>fads</td>\n",
       "      <td>asdfadf</td>\n",
       "    </tr>\n",
       "    <tr>\n",
       "      <th>2</th>\n",
       "      <td>adsf</td>\n",
       "      <td>adsf</td>\n",
       "      <td>fdsdf</td>\n",
       "    </tr>\n",
       "    <tr>\n",
       "      <th>3</th>\n",
       "      <td>daf</td>\n",
       "      <td>adsf</td>\n",
       "      <td>adsf</td>\n",
       "    </tr>\n",
       "  </tbody>\n",
       "</table>\n",
       "</div>"
      ],
      "text/plain": [
       "      0            1           2\n",
       "0  Name  Designation  Contact No\n",
       "1   adf         fads     asdfadf\n",
       "2  adsf         adsf       fdsdf\n",
       "3   daf         adsf        adsf"
      ]
     },
     "execution_count": 31,
     "metadata": {},
     "output_type": "execute_result"
    }
   ],
   "source": [
    "df.head()"
   ]
  },
  {
   "cell_type": "code",
   "execution_count": 25,
   "metadata": {},
   "outputs": [
    {
     "name": "stdout",
     "output_type": "stream",
     "text": [
      "Name adf\n",
      "Designation fads\n",
      "Contact No asdfadf\n",
      "Name adsf\n",
      "Designation adsf\n",
      "Contact No fdsdf\n",
      "Name daf\n",
      "Designation adsf\n",
      "Contact No adsf\n"
     ]
    }
   ],
   "source": [
    "\n",
    "\n",
    "# Assuming `df` is the DataFrame\n",
    "df = extracted_tables[1][3].df\n",
    "\n",
    "# Set the first row as the header\n",
    "df.columns = df.iloc[0]  # Set the first row as the column headers\n",
    "df = df[1:]  # Remove the first row as it is now the header\n",
    "df.reset_index(drop=True, inplace=True)  # Reset the index if necessary\n",
    "\n",
    "# Display the updated DataF\n",
    "columns = []\n",
    "\n",
    "for i in range(len(df.columns)):\n",
    "    columns.append(df.columns[i])\n",
    "\n",
    "for index, row in df.iterrows():\n",
    "    # print(f\"Row {index}: {row.to_dict()}\")\n",
    "    for key,value in row.to_dict().items():\n",
    "        print(key,value)\n",
    "\n",
    "\n",
    "\n"
   ]
  },
  {
   "cell_type": "code",
   "execution_count": 10,
   "metadata": {},
   "outputs": [
    {
     "name": "stdout",
     "output_type": "stream",
     "text": [
      "main road radhanagari_______________________________________________________\n",
      "kolhapur__________________________ 3.3 State: maharastra______________________\n",
      "416212_______________________ 3.5 Country:INDA________________________\n",
      "_________________________________________________________________________\n",
      "________________________________ 3.3 State: _________________________________\n",
      "____________________________ 3.5 Country: _______________________________\n",
      "___ /___ /____ 5. Age: _________ _ 6. Gender: ________________\n",
      "_______________ 8. Mobile: _________________ 9. PAN No.: _______________\n",
      "______________ 11. Email ID: ______________________________________________\n",
      "___________________________________________________\n",
      "___________________ 14. Available for Relocation:\n",
      "(Starting from recent)\n",
      "(Min 2)\n",
      "Write References in case of:\n",
      "Faculty\n",
      "Immediate reporting Authority, Managers, Team Leads etc.\n",
      "Faculty\n"
     ]
    }
   ],
   "source": [
    "import pytesseract\n",
    "from pytesseract import Output\n",
    "from PIL import Image\n",
    "import pdfplumber\n",
    "import re\n",
    "\n",
    "# OCR for Images\n",
    "def extract_text_from_image(image_path):\n",
    "    text = pytesseract.image_to_string(Image.open(image_path))\n",
    "    return text\n",
    "\n",
    "# Extract text from PDF\n",
    "def extract_text_from_pdf(pdf_path):\n",
    "    text = \"\"\n",
    "    with pdfplumber.open(pdf_path) as pdf:\n",
    "        for page in pdf.pages:\n",
    "            text += page.extract_text()\n",
    "    return text\n",
    "\n",
    "# Parse key-value pairs from text\n",
    "def parse_key_value_pairs(text):\n",
    "    key_value_pairs = {}\n",
    "    lines = text.split(\"\\n\")\n",
    "    for line in lines:\n",
    "        # print(line)\n",
    "        # Match key: value pattern\n",
    "        match = re.match(r\"(.+?):\\s*(.+)\", line)\n",
    "        \n",
    "        if match:\n",
    "            print(match.group(2))\n",
    "            key = match.group(1).strip()\n",
    "            value = match.group(2).strip()\n",
    "            key_value_pairs[key] = value\n",
    "    return key_value_pairs\n",
    "\n",
    "# Input: PDF or Image Path\n",
    "file_path = \"filled_form.pdf\"  # Replace with your file path\n",
    "\n",
    "# Determine if the file is an image or PDF\n",
    "if file_path.lower().endswith(('.png', '.jpg', '.jpeg')):\n",
    "    extracted_text = extract_text_from_image(file_path)\n",
    "elif file_path.lower().endswith('.pdf'):\n",
    "    extracted_text = extract_text_from_pdf(file_path)\n",
    "else:\n",
    "    raise ValueError(\"Unsupported file type!\")\n",
    "\n",
    "# Extract key-value pairs\n",
    "key_value_data = parse_key_value_pairs(extracted_text)\n",
    "\n",
    "# Print the extracted key-value pairs\n",
    "# for key, value in key_value_data.items():\n",
    "#     print(f\"{key}: {value}\")\n"
   ]
  },
  {
   "cell_type": "code",
   "execution_count": 14,
   "metadata": {},
   "outputs": [
    {
     "name": "stdout",
     "output_type": "stream",
     "text": [
      "Name (Block Letters- As specified on Passport or Pan Card):\n",
      "Permanent Address:\n",
      "1 Street Address: main road radhanagari_______________________________________________________\n",
      "2 City: kolhapur__________________________ 3.3 State: maharastra______________________\n",
      "4 Zip Code:416212_______________________ 3.5 Country:INDA________________________\n",
      "Current Address:\n",
      "1 Street Address: _________________________________________________________________________\n",
      "2 City: ________________________________ 3.3 State: _________________________________\n",
      "4 Zip Code: ____________________________ 3.5 Country: _______________________________\n",
      "Date of Birth: ___ /___ /____ 5. Age: _________ _ 6. Gender: ________________\n",
      "Passport: _______________ 8. Mobile: _________________ 9. PAN No.: _______________\n",
      "Visa: ______________ 11. Email ID: ______________________________________________\n",
      "Name of Emergency Contact: ___________________________________________________\n",
      "Emergency Contact's Number: ___________________ 14. Available for Relocation:\n",
      "EDUCATIONAL QUALIFICATION: (Starting from recent)\n",
      "Please list the technical or professional certification you completed\n",
      "Details of Family Members:\n",
      "References: (Min 2)\n",
      "Student: Faculty\n",
      "Employment: Immediate reporting Authority, Managers, Team Leads etc.\n",
      "Institute, SEED, CDAC: Faculty\n"
     ]
    }
   ],
   "source": [
    "import pytesseract\n",
    "from pytesseract import Output\n",
    "from PIL import Image\n",
    "import pdfplumber\n",
    "import re\n",
    "\n",
    "# OCR for Images\n",
    "def extract_text_from_image(image_path):\n",
    "    text = pytesseract.image_to_string(Image.open(image_path))\n",
    "    return text\n",
    "\n",
    "# Extract text from PDF\n",
    "def extract_text_from_pdf(pdf_path):\n",
    "    text = \"\"\n",
    "    with pdfplumber.open(pdf_path) as pdf:\n",
    "        for page in pdf.pages:\n",
    "            text += page.extract_text()\n",
    "    return text\n",
    "\n",
    "# Parse key-value pairs from text\n",
    "def parse_key_value_pairs(text):\n",
    "    key_value_pairs = {}\n",
    "    lines = text.split(\"\\n\")\n",
    "    for line in lines:\n",
    "        # Match key.number pattern followed by key and value separated by a period\n",
    "        match = re.match(r\"(\\d+(\\.\\d+)*)(?:\\.\\s*)(.*)\", line)\n",
    "        \n",
    "        if match:\n",
    "            print(match.group(3))\n",
    "            key = match.group(1).strip()\n",
    "            value = match.group(3).strip()\n",
    "            key_value_pairs[key] = value\n",
    "    return key_value_pairs\n",
    "\n",
    "# Input: PDF or Image Path\n",
    "file_path = \"filled_form.pdf\"  # Replace with your file path\n",
    "\n",
    "# Determine if the file is an image or PDF\n",
    "if file_path.lower().endswith(('.png', '.jpg', '.jpeg')): \n",
    "    extracted_text = extract_text_from_image(file_path)\n",
    "elif file_path.lower().endswith('.pdf'): \n",
    "    extracted_text = extract_text_from_pdf(file_path)\n",
    "else:\n",
    "    raise ValueError(\"Unsupported file type!\")\n",
    "\n",
    "# Extract key-value pairs\n",
    "key_value_data = parse_key_value_pairs(extracted_text)\n",
    "\n",
    "# Print the extracted key-value pairs\n",
    "# for key, value in key_value_data.items():\n",
    "#     print(f\"{key}: {value}\")\n",
    "\n"
   ]
  },
  {
   "cell_type": "code",
   "execution_count": 5,
   "metadata": {},
   "outputs": [
    {
     "data": {
      "text/plain": [
       "'extracted_form_data.csv'"
      ]
     },
     "execution_count": 5,
     "metadata": {},
     "output_type": "execute_result"
    }
   ],
   "source": [
    "import pytesseract\n",
    "from pdf2image import convert_from_path\n",
    "import cv2\n",
    "import numpy as np\n",
    "import pandas as pd\n",
    "import re\n",
    "pytesseract.pytesseract.tesseract_cmd = r'C:\\Program Files\\Tesseract-OCR\\tesseract.exe'  # Update as necessary\n",
    "\n",
    "\n",
    "def extract_form_data(file_path, is_pdf=False):\n",
    "    # Convert PDF to image if needed\n",
    "    if is_pdf:\n",
    "        images = convert_from_path(file_path)\n",
    "        image = np.array(images[0])\n",
    "    else:\n",
    "        image = cv2.imread(file_path)\n",
    "        \n",
    "    # Extract text using OCR\n",
    "    text = pytesseract.image_to_string(image)\n",
    "    \n",
    "    # Define patterns for field extraction\n",
    "    patterns = {\n",
    "        'name': r'Name.*?:\\s*(.*?)\\s*(?=\\n)',\n",
    "        'street_address': r'Street Address.*?:\\s*(.*?)\\s*(?=\\n)',\n",
    "        'city': r'City.*?:\\s*(.*?)\\s*(?=\\n)',\n",
    "        'state': r'State.*?:\\s*(.*?)\\s*(?=\\n)',\n",
    "        'zip_code': r'Zip Code.*?:\\s*(.*?)\\s*(?=\\n)',\n",
    "        'country': r'Country.*?:\\s*(.*?)\\s*(?=\\n)',\n",
    "        'dob': r'Date of Birth.*?:\\s*(.*?)\\s*(?=\\n)',\n",
    "        'age': r'Age.*?:\\s*(.*?)\\s*(?=\\n)',\n",
    "        'gender': r'Gender.*?:\\s*(.*?)\\s*(?=\\n)',\n",
    "        'passport': r'Passport.*?:\\s*(.*?)\\s*(?=\\n)',\n",
    "        'mobile': r'Mobile.*?:\\s*(.*?)\\s*(?=\\n)',\n",
    "        'pan': r'PAN No.*?:\\s*(.*?)\\s*(?=\\n)',\n",
    "        'visa': r'Visa.*?:\\s*(.*?)\\s*(?=\\n)',\n",
    "        'email': r'Email ID.*?:\\s*(.*?)\\s*(?=\\n)',\n",
    "        'emergency_contact_name': r'Name of Emergency Contact.*?:\\s*(.*?)\\s*(?=\\n)',\n",
    "        'emergency_contact_number': r'Emergency Contact\\'s Number.*?:\\s*(.*?)\\s*(?=\\n)',\n",
    "        'relocation': r'Available for Relocation.*?:\\s*(.*?)\\s*(?=\\n)'\n",
    "    }\n",
    "    \n",
    "    # Extract data using patterns\n",
    "    extracted_data = {}\n",
    "    for field, pattern in patterns.items():\n",
    "        match = re.search(pattern, text, re.IGNORECASE | re.DOTALL)\n",
    "        extracted_data[field] = match.group(1).strip() if match else ''\n",
    "    \n",
    "    # Convert to DataFrame\n",
    "    df = pd.DataFrame([extracted_data])\n",
    "    return df\n",
    "\n",
    "def save_data(df, output_path='extracted_form_data.csv'):\n",
    "    df.to_csv(output_path, index=False)\n",
    "    return output_path\n",
    "\n",
    "# Usage example\n",
    "form_data = extract_form_data(\"per_address.png\", is_pdf=False)\n",
    "save_data(form_data)"
   ]
  },
  {
   "cell_type": "code",
   "execution_count": 43,
   "metadata": {},
   "outputs": [
    {
     "name": "stdout",
     "output_type": "stream",
     "text": [
      "    \n",
      "               \n",
      " \n",
      "                                                                                              \n",
      "Enzigma Solutions LLP           Page 1 \n",
      " \n",
      " \n",
      "                                                                                                                   Affix Your Photograph Here  \n",
      " \n",
      "CANDIDATE INFORMATION FORM  \n",
      "     1. Name (Block Letters - As specified on Passport or Pan Card ):   \n",
      " \n",
      "___________________________________________________________________________________________  \n",
      "   \n",
      "(First Name)                                           (Middle Name)                                                (Last Nam e)                            \n",
      "      \n",
      "2. Permanent Address:  \n",
      "3.1 Street Address:  main road radhanagari _______________________________________________________  \n",
      " \n",
      "3.2 City: kolhapur __________________________ 3.3 State: maharastra ______________________  \n",
      " \n",
      "3.4 Zip Code :416212 _______________________ 3.5 Country :INDA________________________  \n",
      " \n",
      "3. Current Address:  \n",
      "3.1 Street Address:  _________________________________________________________________________  \n",
      " \n",
      "3.2 City: ________________________________ 3.3 State: _________________________________  \n",
      " \n",
      "3.4 Zip Code : ____________________________ 3.5 Country : _______________________________  \n",
      "                                                                                             \n",
      "      4. Date of Birt h: ___ /___ /____ 5 . Age:  _________                 _ 6.  Gender: ________________  \n",
      "7. Passport:  _______________     8. Mobile : _________________  9. PAN No.: _______________                     \n",
      "10. Visa: ______________  11. Email ID : ______________________________________________  \n",
      " \n",
      "12. Name of Emergency Contact:  ___________________________________________________                                                                                                          \n",
      " \n",
      "13. Emergency Contact's Number: ___________________ 14. Available for Relocation:                                                                 \n",
      "            \n",
      " \n",
      "      15. EDUCATIONAL QUALIFICATION : (Starting  from recent ) \n",
      " \n",
      "Sr No.  Name of the School/ University  Qualification  % or \n",
      "CGPA  Pass out \n",
      "Year \n",
      "1 Pranit Kalebere  Btech  8.2 2025 \n",
      "2 Abc Adkf Lkjad  lkja \n",
      "     \n",
      "     \n",
      " \n",
      "      \n",
      "    \n",
      " \n",
      " \n",
      "        \n",
      "   \n",
      " \n",
      "Enzigma Software Pvt.Ltd.    2 15. Details of any important training undergone:  \n",
      " \n",
      "Program  Contents  Organized By  Duration  \n",
      " \n",
      "Abc Akdfj Kj Kjda \n",
      "Jdfaj \n",
      " Lfakjdf  Lkflkal  Lkjadf \n",
      "Lkj Kdlk Kfk Kk \n",
      " \n",
      "      \n",
      "                 16. Please list the technical or professional certification you completed  \n",
      " \n",
      "Sr. NO  Certification  Duration  \n",
      "Fadf Jkadkfj  Klkjlkj \n",
      "Kjf Ll K \n",
      "Kk Kl Kkl \n",
      "Klj Klkl kl \n",
      " \n",
      "    17. Details of Family Members:   \n",
      "Relation  Occupation/Profession  Resident Location  \n",
      "Father/ Mother  fad fda \n",
      "Brothers  adfadf  dasf \n",
      "Sisters  afsd adsf \n",
      "Spouse  aadf asdf \n",
      "Children  asdfa  adsf \n",
      "                   \n",
      "                \n",
      " \n",
      "                18. References: (Min 2)  \n",
      "                    Note: Write References in case of:  \n",
      "                                1. Student: Faculty  \n",
      "                                2. Employment: Immediate reporting Authority, Managers, Team Leads etc.  \n",
      "                                3. Institute, SEED, CDAC: Faculty  \n",
      "                                \n",
      " \n",
      "Name  Designation  Contact No  \n",
      "adf fads asdfadf  \n",
      "adsf adsf fdsdf \n",
      "daf adsf adsf \n",
      " \n",
      " \n",
      "    \n",
      " \n",
      " \n",
      "    \n",
      "               \n",
      " \n",
      "                                                                                              \n",
      "Enzigma Solutions LLP           Page 3 \n",
      " \n",
      " \n",
      "   Signature  \n"
     ]
    }
   ],
   "source": [
    "import PyPDF2\n",
    "import pandas as pd\n",
    "import re\n",
    "\n",
    "def extract_form_data(pdf_path):\n",
    "    # Read PDF\n",
    "    with open(pdf_path, 'rb') as file:\n",
    "        reader = PyPDF2.PdfReader(file)\n",
    "        text = \"\"\n",
    "        for page in reader.pages:\n",
    "            print(page.extract_text())\n",
    "            text += page.extract_text()\n",
    "    \n",
    "    # Define patterns for field extraction\n",
    "    patterns = {\n",
    "        'name': r'Name.*?:\\s*(.*?)\\s*(?=\\n)',\n",
    "        'street_address': r'Street Address.*?:\\s*(.*?)\\s*(?=\\n)',\n",
    "        'city': r'City.*?:\\s*(.*?)\\s*(?=\\n)',\n",
    "        'state': r'State.*?:\\s*(.*?)\\s*(?=\\n)',\n",
    "        'zip_code': r'Zip Code.*?:\\s*(.*?)\\s*(?=\\n)',\n",
    "        'country': r'Country.*?:\\s*(.*?)\\s*(?=\\n)',\n",
    "        'dob': r'Date of Birth.*?:\\s*(.*?)\\s*(?=\\n)',\n",
    "        'age': r'Age.*?:\\s*(.*?)\\s*(?=\\n)',\n",
    "        'gender': r'Gender.*?:\\s*(.*?)\\s*(?=\\n)',\n",
    "        'passport': r'Passport.*?:\\s*(.*?)\\s*(?=\\n)',\n",
    "        'mobile': r'Mobile.*?:\\s*(.*?)\\s*(?=\\n)',\n",
    "        'pan': r'PAN No.*?:\\s*(.*?)\\s*(?=\\n)',\n",
    "        'visa': r'Visa.*?:\\s*(.*?)\\s*(?=\\n)',\n",
    "        'email': r'Email ID.*?:\\s*(.*?)\\s*(?=\\n)',\n",
    "        'emergency_contact_name': r'Emergency Contact.*?:\\s*(.*?)\\s*(?=\\n)',\n",
    "        'emergency_contact_number': r'Contact\\'s Number.*?:\\s*(.*?)\\s*(?=\\n)',\n",
    "        'relocation': r'Relocation.*?:\\s*(.*?)\\s*(?=\\n)'\n",
    "    }\n",
    "    \n",
    "    # Extract data\n",
    "    extracted_data = {}\n",
    "    for field, pattern in patterns.items():\n",
    "        match = re.search(pattern, text, re.IGNORECASE | re.DOTALL)\n",
    "        extracted_data[field] = match.group(1).strip() if match else ''\n",
    "    \n",
    "    return pd.DataFrame([extracted_data])\n",
    "\n",
    "def save_data(df, output_path='extracted_form_data.csv'):\n",
    "    df.to_csv(output_path, index=False)\n",
    "    return output_path\n",
    "\n",
    "# Usage\n",
    "df = extract_form_data('filled_form.pdf')\n",
    "\n",
    "# save_data(df)"
   ]
  },
  {
   "cell_type": "code",
   "execution_count": 8,
   "metadata": {},
   "outputs": [
    {
     "name": "stdout",
     "output_type": "stream",
     "text": [
      "Collecting PyPDF2\n",
      "  Using cached pypdf2-3.0.1-py3-none-any.whl.metadata (6.8 kB)\n",
      "Using cached pypdf2-3.0.1-py3-none-any.whl (232 kB)\n",
      "Installing collected packages: PyPDF2\n",
      "Successfully installed PyPDF2-3.0.1\n",
      "Note: you may need to restart the kernel to use updated packages.\n"
     ]
    }
   ],
   "source": [
    "%pip install PyPDF2"
   ]
  },
  {
   "cell_type": "code",
   "execution_count": 32,
   "metadata": {},
   "outputs": [
    {
     "name": "stderr",
     "output_type": "stream",
     "text": [
      "<>:4: SyntaxWarning: invalid escape sequence '\\P'\n",
      "<>:4: SyntaxWarning: invalid escape sequence '\\P'\n",
      "C:\\Users\\prani\\AppData\\Local\\Temp\\ipykernel_9584\\1349969273.py:4: SyntaxWarning: invalid escape sequence '\\P'\n",
      "  \"pytesseract.pytesseract.tesseract_cmd = r'C:\\Program Files\\Tesseract-OCR\\tesseract.exe'\"\n"
     ]
    },
    {
     "ename": "OSError",
     "evalue": "Tesseract not found in environment. Check variables and PATH",
     "output_type": "error",
     "traceback": [
      "\u001b[1;31m---------------------------------------------------------------------------\u001b[0m",
      "\u001b[1;31mOSError\u001b[0m                                   Traceback (most recent call last)",
      "Cell \u001b[1;32mIn[32], line 6\u001b[0m\n\u001b[0;32m      4\u001b[0m \u001b[38;5;124m\"\u001b[39m\u001b[38;5;124mpytesseract.pytesseract.tesseract_cmd = r\u001b[39m\u001b[38;5;124m'\u001b[39m\u001b[38;5;124mC:\u001b[39m\u001b[38;5;124m\\\u001b[39m\u001b[38;5;124mProgram Files\u001b[39m\u001b[38;5;124m\\\u001b[39m\u001b[38;5;124mTesseract-OCR\u001b[39m\u001b[38;5;130;01m\\t\u001b[39;00m\u001b[38;5;124messeract.exe\u001b[39m\u001b[38;5;124m'\u001b[39m\u001b[38;5;124m\"\u001b[39m\n\u001b[0;32m      5\u001b[0m \u001b[38;5;66;03m# Instantiation of OCR\u001b[39;00m\n\u001b[1;32m----> 6\u001b[0m ocr \u001b[38;5;241m=\u001b[39m \u001b[43mTesseractOCR\u001b[49m\u001b[43m(\u001b[49m\u001b[43mn_threads\u001b[49m\u001b[38;5;241;43m=\u001b[39;49m\u001b[38;5;241;43m1\u001b[39;49m\u001b[43m,\u001b[49m\u001b[43m \u001b[49m\u001b[43mlang\u001b[49m\u001b[38;5;241;43m=\u001b[39;49m\u001b[38;5;124;43m\"\u001b[39;49m\u001b[38;5;124;43meng\u001b[39;49m\u001b[38;5;124;43m\"\u001b[39;49m\u001b[43m)\u001b[49m\n\u001b[0;32m      8\u001b[0m \u001b[38;5;66;03m# Instantiation of document, either an image or a PDF\u001b[39;00m\n\u001b[0;32m      9\u001b[0m doc \u001b[38;5;241m=\u001b[39m Image(\u001b[38;5;124m\"\u001b[39m\u001b[38;5;124mtest_data.png\u001b[39m\u001b[38;5;124m\"\u001b[39m)\n",
      "File \u001b[1;32mc:\\Users\\prani\\Desktop\\uddhav_project_ocr\\.venv\\Lib\\site-packages\\img2table\\ocr\\tesseract.py:56\u001b[0m, in \u001b[0;36mTesseractOCR.__init__\u001b[1;34m(self, n_threads, lang, psm, tessdata_dir)\u001b[0m\n\u001b[0;32m     54\u001b[0m cmd_tess \u001b[38;5;241m=\u001b[39m subprocess\u001b[38;5;241m.\u001b[39mrun(\u001b[38;5;124m\"\u001b[39m\u001b[38;5;124mtesseract --version\u001b[39m\u001b[38;5;124m\"\u001b[39m, env\u001b[38;5;241m=\u001b[39m\u001b[38;5;28mself\u001b[39m\u001b[38;5;241m.\u001b[39menv, shell\u001b[38;5;241m=\u001b[39m\u001b[38;5;28;01mTrue\u001b[39;00m)\n\u001b[0;32m     55\u001b[0m \u001b[38;5;28;01mif\u001b[39;00m cmd_tess\u001b[38;5;241m.\u001b[39mreturncode \u001b[38;5;241m!=\u001b[39m \u001b[38;5;241m0\u001b[39m:\n\u001b[1;32m---> 56\u001b[0m     \u001b[38;5;28;01mraise\u001b[39;00m \u001b[38;5;167;01mEnvironmentError\u001b[39;00m(\u001b[38;5;124m\"\u001b[39m\u001b[38;5;124mTesseract not found in environment. Check variables and PATH\u001b[39m\u001b[38;5;124m\"\u001b[39m)\n\u001b[0;32m     58\u001b[0m \u001b[38;5;66;03m# Check if requested languages are available\u001b[39;00m\n\u001b[0;32m     59\u001b[0m \u001b[38;5;28;01mtry\u001b[39;00m:\n",
      "\u001b[1;31mOSError\u001b[0m: Tesseract not found in environment. Check variables and PATH"
     ]
    }
   ],
   "source": [
    "from img2table.ocr import TesseractOCR\n",
    "from img2table.document import Image\n",
    "\n",
    "\"pytesseract.pytesseract.tesseract_cmd = r'C:\\Program Files\\Tesseract-OCR\\tesseract.exe'\"\n",
    "# Instantiation of OCR\n",
    "ocr = TesseractOCR(n_threads=1, lang=\"eng\")\n",
    "\n",
    "# Instantiation of document, either an image or a PDF\n",
    "doc = Image(\"test_data.png\")\n",
    "\n",
    "# Table extraction\n",
    "extracted_tables = doc.extract_tables(ocr=ocr,\n",
    "                                      implicit_rows=False,\n",
    "                                      implicit_columns=False,\n",
    "                                      borderless_tables=False,\n",
    "                                      min_confidence=50)\n"
   ]
  },
  {
   "cell_type": "code",
   "execution_count": 44,
   "metadata": {},
   "outputs": [],
   "source": [
    "import pdfplumber\n",
    "\n",
    "# Path to your PDF file\n",
    "pdf_path = 'filled_form.pdf'\n",
    "\n",
    "with pdfplumber.open(pdf_path) as pdf:\n",
    "    text = \"\"\n",
    "    # Extract text from all pages\n",
    "    for page in pdf.pages:\n",
    "        text += page.extract_text()\n"
   ]
  },
  {
   "cell_type": "code",
   "execution_count": 55,
   "metadata": {},
   "outputs": [
    {
     "name": "stdout",
     "output_type": "stream",
     "text": [
      "Permanent Address:\n",
      "{'Street Address': '', 'City': '', 'State': '', 'Zip Code': '', 'Country': ''}\n",
      "\n",
      "Current Address:\n",
      "{'Street Address': '', 'City': '', 'State': '', 'Zip Code': '', 'Country': ''}\n"
     ]
    }
   ],
   "source": [
    "import re\n",
    "\n",
    "# Sample text from the PDF\n",
    "text = \"\"\"\n",
    "Permanent Address: \n",
    "3.1 Street Address:\n",
    "3.2 City: \n",
    "3.3 State:\n",
    "3.4 Zip Code:\n",
    "3.5 Country:\n",
    "\n",
    "Current Address: \n",
    "3.1 Street Address: \n",
    "3.2 City: \n",
    "3.3 State: \n",
    "3.4 Zip Code: \n",
    "3.5 Country: \n",
    "\"\"\"\n",
    "\n",
    "# Regular expressions to capture the labeled data\n",
    "address_pattern = re.compile(r'3\\.(\\d) ([A-Za-z\\s]+):\\s*(.*?)\\s*(?=\\d|$)')\n",
    "permanent_address = {}\n",
    "current_address = {}\n",
    "\n",
    "# Extract Permanent Address\n",
    "permanent_address_matches = re.findall(address_pattern, text.split('Current Address:')[0])\n",
    "for match in permanent_address_matches:\n",
    "    label, field, value = match\n",
    "    permanent_address[field.strip()] = value.strip()\n",
    "\n",
    "# Extract Current Address\n",
    "current_address_matches = re.findall(address_pattern, text.split('Current Address:')[1])\n",
    "for match in current_address_matches:\n",
    "    label, field, value = match\n",
    "    current_address[field.strip()] = value.strip()\n",
    "\n",
    "# Print extracted information\n",
    "print(\"Permanent Address:\")\n",
    "print(permanent_address)\n",
    "\n",
    "print(\"\\nCurrent Address:\")\n",
    "print(current_address)\n"
   ]
  },
  {
   "cell_type": "code",
   "execution_count": 48,
   "metadata": {},
   "outputs": [
    {
     "name": "stdout",
     "output_type": "stream",
     "text": [
      "[]\n"
     ]
    },
    {
     "ename": "AttributeError",
     "evalue": "'NoneType' object has no attribute 'group'",
     "output_type": "error",
     "traceback": [
      "\u001b[1;31m---------------------------------------------------------------------------\u001b[0m",
      "\u001b[1;31mAttributeError\u001b[0m                            Traceback (most recent call last)",
      "Cell \u001b[1;32mIn[48], line 66\u001b[0m\n\u001b[0;32m     47\u001b[0m relocation \u001b[38;5;241m=\u001b[39m re\u001b[38;5;241m.\u001b[39msearch(relocation_pattern, text)\n\u001b[0;32m     49\u001b[0m \u001b[38;5;66;03m# Store extracted information\u001b[39;00m\n\u001b[0;32m     50\u001b[0m data \u001b[38;5;241m=\u001b[39m {\n\u001b[0;32m     51\u001b[0m     \u001b[38;5;124m\"\u001b[39m\u001b[38;5;124mFirst Name\u001b[39m\u001b[38;5;124m\"\u001b[39m: first_name,\n\u001b[0;32m     52\u001b[0m     \u001b[38;5;124m\"\u001b[39m\u001b[38;5;124mMiddle Name\u001b[39m\u001b[38;5;124m\"\u001b[39m: middle_name,\n\u001b[0;32m     53\u001b[0m     \u001b[38;5;124m\"\u001b[39m\u001b[38;5;124mLast Name\u001b[39m\u001b[38;5;124m\"\u001b[39m: last_name,\n\u001b[0;32m     54\u001b[0m     \u001b[38;5;124m\"\u001b[39m\u001b[38;5;124mPermanent Address\u001b[39m\u001b[38;5;124m\"\u001b[39m: {},\n\u001b[0;32m     55\u001b[0m     \u001b[38;5;124m\"\u001b[39m\u001b[38;5;124mCurrent Address\u001b[39m\u001b[38;5;124m\"\u001b[39m: {},\n\u001b[0;32m     56\u001b[0m     \u001b[38;5;124m\"\u001b[39m\u001b[38;5;124mDate of Birth\u001b[39m\u001b[38;5;124m\"\u001b[39m: \u001b[38;5;124mf\u001b[39m\u001b[38;5;124m\"\u001b[39m\u001b[38;5;132;01m{\u001b[39;00mdob\u001b[38;5;241m.\u001b[39mgroup(\u001b[38;5;241m1\u001b[39m)\u001b[38;5;132;01m}\u001b[39;00m\u001b[38;5;124m/\u001b[39m\u001b[38;5;132;01m{\u001b[39;00mdob\u001b[38;5;241m.\u001b[39mgroup(\u001b[38;5;241m2\u001b[39m)\u001b[38;5;132;01m}\u001b[39;00m\u001b[38;5;124m/\u001b[39m\u001b[38;5;132;01m{\u001b[39;00mdob\u001b[38;5;241m.\u001b[39mgroup(\u001b[38;5;241m3\u001b[39m)\u001b[38;5;132;01m}\u001b[39;00m\u001b[38;5;124m\"\u001b[39m \u001b[38;5;28;01mif\u001b[39;00m dob \u001b[38;5;28;01melse\u001b[39;00m \u001b[38;5;124m\"\u001b[39m\u001b[38;5;124m\"\u001b[39m,\n\u001b[0;32m     57\u001b[0m     \u001b[38;5;124m\"\u001b[39m\u001b[38;5;124mAge\u001b[39m\u001b[38;5;124m\"\u001b[39m: age\u001b[38;5;241m.\u001b[39mgroup(\u001b[38;5;241m1\u001b[39m) \u001b[38;5;28;01mif\u001b[39;00m age \u001b[38;5;28;01melse\u001b[39;00m \u001b[38;5;124m\"\u001b[39m\u001b[38;5;124m\"\u001b[39m,\n\u001b[0;32m     58\u001b[0m     \u001b[38;5;124m\"\u001b[39m\u001b[38;5;124mGender\u001b[39m\u001b[38;5;124m\"\u001b[39m: gender\u001b[38;5;241m.\u001b[39mgroup(\u001b[38;5;241m1\u001b[39m) \u001b[38;5;28;01mif\u001b[39;00m gender \u001b[38;5;28;01melse\u001b[39;00m \u001b[38;5;124m\"\u001b[39m\u001b[38;5;124m\"\u001b[39m,\n\u001b[0;32m     59\u001b[0m     \u001b[38;5;124m\"\u001b[39m\u001b[38;5;124mPassport\u001b[39m\u001b[38;5;124m\"\u001b[39m: passport\u001b[38;5;241m.\u001b[39mgroup(\u001b[38;5;241m1\u001b[39m) \u001b[38;5;28;01mif\u001b[39;00m passport \u001b[38;5;28;01melse\u001b[39;00m \u001b[38;5;124m\"\u001b[39m\u001b[38;5;124m\"\u001b[39m,\n\u001b[0;32m     60\u001b[0m     \u001b[38;5;124m\"\u001b[39m\u001b[38;5;124mMobile\u001b[39m\u001b[38;5;124m\"\u001b[39m: mobile\u001b[38;5;241m.\u001b[39mgroup(\u001b[38;5;241m1\u001b[39m) \u001b[38;5;28;01mif\u001b[39;00m mobile \u001b[38;5;28;01melse\u001b[39;00m \u001b[38;5;124m\"\u001b[39m\u001b[38;5;124m\"\u001b[39m,\n\u001b[0;32m     61\u001b[0m     \u001b[38;5;124m\"\u001b[39m\u001b[38;5;124mPAN No.\u001b[39m\u001b[38;5;124m\"\u001b[39m: pan\u001b[38;5;241m.\u001b[39mgroup(\u001b[38;5;241m1\u001b[39m) \u001b[38;5;28;01mif\u001b[39;00m pan \u001b[38;5;28;01melse\u001b[39;00m \u001b[38;5;124m\"\u001b[39m\u001b[38;5;124m\"\u001b[39m,\n\u001b[0;32m     62\u001b[0m     \u001b[38;5;124m\"\u001b[39m\u001b[38;5;124mVisa\u001b[39m\u001b[38;5;124m\"\u001b[39m: visa\u001b[38;5;241m.\u001b[39mgroup(\u001b[38;5;241m1\u001b[39m) \u001b[38;5;28;01mif\u001b[39;00m visa \u001b[38;5;28;01melse\u001b[39;00m \u001b[38;5;124m\"\u001b[39m\u001b[38;5;124m\"\u001b[39m,\n\u001b[0;32m     63\u001b[0m     \u001b[38;5;124m\"\u001b[39m\u001b[38;5;124mEmail\u001b[39m\u001b[38;5;124m\"\u001b[39m: email\u001b[38;5;241m.\u001b[39mgroup(\u001b[38;5;241m1\u001b[39m) \u001b[38;5;28;01mif\u001b[39;00m email \u001b[38;5;28;01melse\u001b[39;00m \u001b[38;5;124m\"\u001b[39m\u001b[38;5;124m\"\u001b[39m,\n\u001b[0;32m     64\u001b[0m     \u001b[38;5;124m\"\u001b[39m\u001b[38;5;124mEmergency Contact\u001b[39m\u001b[38;5;124m\"\u001b[39m: emergency_contact\u001b[38;5;241m.\u001b[39mgroup(\u001b[38;5;241m1\u001b[39m) \u001b[38;5;28;01mif\u001b[39;00m emergency_contact \u001b[38;5;28;01melse\u001b[39;00m \u001b[38;5;124m\"\u001b[39m\u001b[38;5;124m\"\u001b[39m,\n\u001b[0;32m     65\u001b[0m     \u001b[38;5;124m\"\u001b[39m\u001b[38;5;124mEmergency Contact Number\u001b[39m\u001b[38;5;124m\"\u001b[39m: emergency_contact_number\u001b[38;5;241m.\u001b[39mgroup(\u001b[38;5;241m1\u001b[39m) \u001b[38;5;28;01mif\u001b[39;00m emergency_contact_number \u001b[38;5;28;01melse\u001b[39;00m \u001b[38;5;124m\"\u001b[39m\u001b[38;5;124m\"\u001b[39m,\n\u001b[1;32m---> 66\u001b[0m     \u001b[38;5;124m\"\u001b[39m\u001b[38;5;124mAvailable for Relocation\u001b[39m\u001b[38;5;124m\"\u001b[39m: \u001b[43mrelocation\u001b[49m\u001b[38;5;241;43m.\u001b[39;49m\u001b[43mgroup\u001b[49m(\u001b[38;5;241m1\u001b[39m) \u001b[38;5;241m==\u001b[39m \u001b[38;5;124m'\u001b[39m\u001b[38;5;124mX\u001b[39m\u001b[38;5;124m'\u001b[39m\n\u001b[0;32m     67\u001b[0m }\n\u001b[0;32m     69\u001b[0m \u001b[38;5;66;03m# Extract Address Information\u001b[39;00m\n\u001b[0;32m     70\u001b[0m address_data \u001b[38;5;241m=\u001b[39m re\u001b[38;5;241m.\u001b[39mfindall(address_pattern, text)\n",
      "\u001b[1;31mAttributeError\u001b[0m: 'NoneType' object has no attribute 'group'"
     ]
    }
   ],
   "source": [
    "import pdfplumber\n",
    "import re\n",
    "\n",
    "# Path to your PDF file\n",
    "pdf_path = 'filled_form.pdf'\n",
    "\n",
    "# Initialize text variable\n",
    "text = \"\"\n",
    "\n",
    "# Open the PDF and extract text\n",
    "with pdfplumber.open(pdf_path) as pdf:\n",
    "    for page in pdf.pages:\n",
    "        text += page.extract_text()\n",
    "\n",
    "# Define the regular expression patterns for the different fields\n",
    "name_pattern = r'Name \\(Block Letters\\):\\s*(.*?)(?=\\d|\\Z)'\n",
    "address_pattern = r'3\\.(\\d) ([A-Za-z\\s]+):\\s*(.*?)\\s*(?=\\d|$)'\n",
    "dob_pattern = r'Date of Birth:\\s*(\\d{2})/(\\d{2})/(\\d{4})'\n",
    "age_pattern = r'Age:\\s*(\\d+)'\n",
    "gender_pattern = r'Gender:\\s*([A-Za-z]+)'\n",
    "passport_pattern = r'Passport:\\s*(\\S+)'\n",
    "mobile_pattern = r'Mobile:\\s*(\\S+)'\n",
    "pan_pattern = r'PAN No\\.:?\\s*(\\S+)'\n",
    "visa_pattern = r'Visa:\\s*(\\S+)'\n",
    "email_pattern = r'Email ID:\\s*([^\\n]+)'\n",
    "emergency_contact_pattern = r'Name of Emergency Contact:\\s*([^\\n]+)'\n",
    "emergency_contact_number_pattern = r'Emergency Contact\\'s Number:\\s*(\\S+)'\n",
    "relocation_pattern = r'Available for Relocation:\\s*\\[([X\\s])\\]'\n",
    "\n",
    "# Extract data from text using regular expressions\n",
    "name = re.search(name_pattern, text)\n",
    "name_split = name.group(1).split() if name else []\n",
    "print(name_split)\n",
    "first_name, middle_name, last_name =\"pranit\",\"sunil\",\"kalebere\" #(name_split + [\"\", \"\"])[:3]  # Ensure three parts\n",
    "\n",
    "# Extract other fields\n",
    "dob = re.search(dob_pattern, text)\n",
    "age = re.search(age_pattern, text)\n",
    "gender = re.search(gender_pattern, text)\n",
    "passport = re.search(passport_pattern, text)\n",
    "mobile = re.search(mobile_pattern, text)\n",
    "pan = re.search(pan_pattern, text)\n",
    "visa = re.search(visa_pattern, text)\n",
    "email = re.search(email_pattern, text)\n",
    "emergency_contact = re.search(emergency_contact_pattern, text)\n",
    "emergency_contact_number = re.search(emergency_contact_number_pattern, text)\n",
    "relocation = re.search(relocation_pattern, text)\n",
    "\n",
    "# Store extracted information\n",
    "data = {\n",
    "    \"First Name\": first_name,\n",
    "    \"Middle Name\": middle_name,\n",
    "    \"Last Name\": last_name,\n",
    "    \"Permanent Address\": {},\n",
    "    \"Current Address\": {},\n",
    "    \"Date of Birth\": f\"{dob.group(1)}/{dob.group(2)}/{dob.group(3)}\" if dob else \"\",\n",
    "    \"Age\": age.group(1) if age else \"\",\n",
    "    \"Gender\": gender.group(1) if gender else \"\",\n",
    "    \"Passport\": passport.group(1) if passport else \"\",\n",
    "    \"Mobile\": mobile.group(1) if mobile else \"\",\n",
    "    \"PAN No.\": pan.group(1) if pan else \"\",\n",
    "    \"Visa\": visa.group(1) if visa else \"\",\n",
    "    \"Email\": email.group(1) if email else \"\",\n",
    "    \"Emergency Contact\": emergency_contact.group(1) if emergency_contact else \"\",\n",
    "    \"Emergency Contact Number\": emergency_contact_number.group(1) if emergency_contact_number else \"\",\n",
    "    \"Available for Relocation\": relocation.group(1) == 'X'\n",
    "}\n",
    "\n",
    "# Extract Address Information\n",
    "address_data = re.findall(address_pattern, text)\n",
    "for match in address_data:\n",
    "    label, field, value = match\n",
    "    if label == \"1\":  # Permanent Address\n",
    "        data[\"Permanent Address\"][field.strip()] = value.strip()\n",
    "    else:  # Current Address\n",
    "        data[\"Current Address\"][field.strip()] = value.strip()\n",
    "\n",
    "# Print the extracted data\n",
    "print(data)\n"
   ]
  },
  {
   "cell_type": "code",
   "execution_count": 53,
   "metadata": {},
   "outputs": [
    {
     "name": "stdout",
     "output_type": "stream",
     "text": [
      "[]\n",
      "{'First Name': 'pranit', 'Middle Name': 'sunil', 'Last Name': 'kalebere', 'Permanent Address': {'Street Address': '_________________________________________________________________________'}, 'Current Address': {'City': '________________________________', 'State': '_________________________________', 'Zip Code': '____________________________', 'Country': '_______________________________'}, 'Date of Birth': '', 'Age': '', 'Gender': '', 'Passport': '_______________', 'Mobile': '_________________', 'PAN No.': '_______________', 'Visa': '______________', 'Email': '______________________________________________', 'Emergency Contact': '___________________________________________________', 'Emergency Contact Number': '___________________', 'Available for Relocation': False}\n"
     ]
    }
   ],
   "source": [
    "import pdfplumber\n",
    "import re\n",
    "\n",
    "# Path to your PDF file\n",
    "pdf_path = 'filled_form.pdf'\n",
    "\n",
    "# Initialize text variable\n",
    "text = \"\"\n",
    "\n",
    "# Open the PDF and extract text\n",
    "with pdfplumber.open(pdf_path) as pdf:\n",
    "    for page in pdf.pages:\n",
    "        text += page.extract_text()\n",
    "\n",
    "# Define the regular expression patterns for the different fields\n",
    "name_pattern = r'Name \\(Block Letters\\):\\s*(.*?)\\s*'  # Capturing name after 'Name (Block Letters)'\n",
    "address_pattern = r'3\\.(\\d) ([A-Za-z\\s]+):\\s*(.*?)\\s*(?=\\d|$)'\n",
    "dob_pattern = r'Date of Birth:\\s*(\\d{2})/(\\d{2})/(\\d{4})'\n",
    "age_pattern = r'Age:\\s*(\\d+)'\n",
    "gender_pattern = r'Gender:\\s*([A-Za-z]+)'\n",
    "passport_pattern = r'Passport:\\s*(\\S+)'\n",
    "mobile_pattern = r'Mobile:\\s*(\\S+)'\n",
    "pan_pattern = r'PAN No\\.:?\\s*(\\S+)'\n",
    "visa_pattern = r'Visa:\\s*(\\S+)'\n",
    "email_pattern = r'Email ID:\\s*([^\\n]+)'\n",
    "emergency_contact_pattern = r'Name of Emergency Contact:\\s*([^\\n]+)'\n",
    "emergency_contact_number_pattern = r'Emergency Contact\\'s Number:\\s*(\\S+)'\n",
    "relocation_pattern = r'Available for Relocation:\\s*\\[([X\\s])\\]'\n",
    "\n",
    "# Extract data from text using regular expressions\n",
    "name = re.search(name_pattern, text)\n",
    "name_parts = name.group(1).split() if name else []  # Split the name into parts\n",
    "print(name_parts)\n",
    "first_name, middle_name, last_name = \"pranit\",\"sunil\",\"kalebere\" #(name_parts + [\"\", \"\"])[:3]  # Ensure there are three parts\n",
    "\n",
    "# Extract other fields\n",
    "dob = re.search(dob_pattern, text)\n",
    "age = re.search(age_pattern, text)\n",
    "gender = re.search(gender_pattern, text)\n",
    "passport = re.search(passport_pattern, text)\n",
    "mobile = re.search(mobile_pattern, text)\n",
    "pan = re.search(pan_pattern, text)\n",
    "visa = re.search(visa_pattern, text)\n",
    "email = re.search(email_pattern, text)\n",
    "emergency_contact = re.search(emergency_contact_pattern, text)\n",
    "emergency_contact_number = re.search(emergency_contact_number_pattern, text)\n",
    "relocation = re.search(relocation_pattern, text)\n",
    "\n",
    "# Store extracted information\n",
    "data = {\n",
    "    \"First Name\": first_name,\n",
    "    \"Middle Name\": middle_name,\n",
    "    \"Last Name\": last_name,\n",
    "    \"Permanent Address\": {},\n",
    "    \"Current Address\": {},\n",
    "    \"Date of Birth\": f\"{dob.group(1)}/{dob.group(2)}/{dob.group(3)}\" if dob else \"\",\n",
    "    \"Age\": age.group(1) if age else \"\",\n",
    "    \"Gender\": gender.group(1) if gender else \"\",\n",
    "    \"Passport\": passport.group(1) if passport else \"\",\n",
    "    \"Mobile\": mobile.group(1) if mobile else \"\",\n",
    "    \"PAN No.\": pan.group(1) if pan else \"\",\n",
    "    \"Visa\": visa.group(1) if visa else \"\",\n",
    "    \"Email\": email.group(1) if email else \"\",\n",
    "    \"Emergency Contact\": emergency_contact.group(1) if emergency_contact else \"\",\n",
    "    \"Emergency Contact Number\": emergency_contact_number.group(1) if emergency_contact_number else \"\",\n",
    "    \"Available for Relocation\": True if relocation == 'X' else False\n",
    "}\n",
    "\n",
    "# Extract Address Information\n",
    "address_data = re.findall(address_pattern, text)\n",
    "for match in address_data:\n",
    "    label, field, value = match\n",
    "    if label == \"1\":  # Permanent Address\n",
    "        data[\"Permanent Address\"][field.strip()] = value.strip()\n",
    "    else:  # Current Address\n",
    "        data[\"Current Address\"][field.strip()] = value.strip()\n",
    "\n",
    "# Print the extracted data\n",
    "print(data)\n"
   ]
  },
  {
   "cell_type": "code",
   "execution_count": 24,
   "metadata": {},
   "outputs": [],
   "source": [
    "import pdfplumber\n",
    "import re\n",
    "\n",
    "# Path to your PDF file\n",
    "pdf_path = 'filled_form.pdf'\n",
    "\n",
    "# Initialize text variable\n",
    "text = \"\"\n",
    "\n",
    "# Open the PDF and extract text\n",
    "with pdfplumber.open(pdf_path) as pdf:\n",
    "    for page in pdf.pages:\n",
    "        text += page.extract_text()"
   ]
  },
  {
   "cell_type": "code",
   "execution_count": 32,
   "metadata": {},
   "outputs": [
    {
     "name": "stdout",
     "output_type": "stream",
     "text": [
      "4. Date of Birth: 03 /05/2003 5. Age: 21 6. Gender: Male\n"
     ]
    }
   ],
   "source": [
    "print(text.splitlines()[13])"
   ]
  },
  {
   "cell_type": "code",
   "execution_count": 76,
   "metadata": {},
   "outputs": [
    {
     "name": "stdout",
     "output_type": "stream",
     "text": [
      "Street Address: main road radhanagari\n"
     ]
    }
   ],
   "source": [
    "lines = text.splitlines()\n",
    "line = lines[6]  # \"3.1 Street Address: main road radhanagari _____________________________________________________\"\n",
    "\n",
    "# Regular expression to match the text after 'Street Address:'\n",
    "per_street_pattern = r\"3\\.1 Street Address:\\s*(.*?)(?:_+)?$\"  # Match everything after \"Street Address:\"\n",
    "per_city_pattern = \n",
    "# Search for the pattern in the line\n",
    "match = re.search(pattern, line)\n",
    "\n",
    "if match:\n",
    "    # Extract the street address, remove unwanted characters (e.g., underscores)\n",
    "    street_address = match.group(1).strip()\n",
    "    print(\"Street Address:\", street_address)\n",
    "else:\n",
    "    print(\"Street Address not found\")"
   ]
  },
  {
   "cell_type": "code",
   "execution_count": 98,
   "metadata": {},
   "outputs": [
    {
     "ename": "AttributeError",
     "evalue": "'NoneType' object has no attribute 'group'",
     "output_type": "error",
     "traceback": [
      "\u001b[1;31m---------------------------------------------------------------------------\u001b[0m",
      "\u001b[1;31mAttributeError\u001b[0m                            Traceback (most recent call last)",
      "Cell \u001b[1;32mIn[98], line 3\u001b[0m\n\u001b[0;32m      1\u001b[0m per_zip_pattern \u001b[38;5;241m=\u001b[39m  \u001b[38;5;124mr\u001b[39m\u001b[38;5;124m\"\u001b[39m\u001b[38;5;124m3\u001b[39m\u001b[38;5;124m\\\u001b[39m\u001b[38;5;124m.4 Zip Code:\u001b[39m\u001b[38;5;124m\\\u001b[39m\u001b[38;5;124ms*([0-9]+)\u001b[39m\u001b[38;5;124m\"\u001b[39m\n\u001b[0;32m      2\u001b[0m line \u001b[38;5;241m=\u001b[39m lines[\u001b[38;5;241m3\u001b[39m]\n\u001b[1;32m----> 3\u001b[0m \u001b[38;5;28mzip\u001b[39m \u001b[38;5;241m=\u001b[39m \u001b[43mre\u001b[49m\u001b[38;5;241;43m.\u001b[39;49m\u001b[43msearch\u001b[49m\u001b[43m(\u001b[49m\u001b[43mper_zip_pattern\u001b[49m\u001b[43m,\u001b[49m\u001b[43m \u001b[49m\u001b[43mline\u001b[49m\u001b[43m)\u001b[49m\u001b[38;5;241;43m.\u001b[39;49m\u001b[43mgroup\u001b[49m(\u001b[38;5;241m1\u001b[39m)\u001b[38;5;241m.\u001b[39mstrip()\n\u001b[0;32m      4\u001b[0m \u001b[38;5;28mprint\u001b[39m(\u001b[38;5;28mzip\u001b[39m)\n",
      "\u001b[1;31mAttributeError\u001b[0m: 'NoneType' object has no attribute 'group'"
     ]
    }
   ],
   "source": [
    "per_zip_pattern =  r\"3\\.4 Zip Code:\\s*([0-9]+)\"\n",
    "line = lines[3]\n",
    "zip = re.search(per_zip_pattern, line).group(1).strip()\n",
    "print(zip)"
   ]
  },
  {
   "cell_type": "code",
   "execution_count": 108,
   "metadata": {},
   "outputs": [
    {
     "name": "stdout",
     "output_type": "stream",
     "text": [
      "4. Date of Birth: ___ /___ /____ 5. Age: _________ _ 6. Gender: ________________\n",
      "None\n"
     ]
    }
   ],
   "source": [
    "per_gender_pattern =  r\"6\\.Gender:\\s*([A-Za-z\\s]+)\" \n",
    "line = lines[13]\n",
    "print(line)\n",
    "per_gender = re.search(per_gender_pattern, line)\n",
    "if per_gender:\n",
    "    per_gender = per_gender.group(1).strip()\n",
    "else :\n",
    "    per_gender = None\n",
    "print(per_gender)"
   ]
  },
  {
   "cell_type": "code",
   "execution_count": null,
   "metadata": {},
   "outputs": [],
   "source": []
  }
 ],
 "metadata": {
  "kernelspec": {
   "display_name": "Python 3",
   "language": "python",
   "name": "python3"
  },
  "language_info": {
   "codemirror_mode": {
    "name": "ipython",
    "version": 3
   },
   "file_extension": ".py",
   "mimetype": "text/x-python",
   "name": "python",
   "nbconvert_exporter": "python",
   "pygments_lexer": "ipython3",
   "version": "3.12.8"
  }
 },
 "nbformat": 4,
 "nbformat_minor": 2
}
